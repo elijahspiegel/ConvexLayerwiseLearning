{
 "cells": [
  {
   "cell_type": "code",
   "execution_count": 1,
   "metadata": {
    "code_folding": [],
    "id": "4euARiTbimO6"
   },
   "outputs": [],
   "source": [
    "# libraries \n",
    "import numpy as np\n",
    "import numpy.matlib\n",
    "import cvxpy\n",
    "import matplotlib\n",
    "import matplotlib.pyplot as plt\n",
    "matplotlib.rcParams['pdf.fonttype'] = 42\n",
    "matplotlib.rcParams['ps.fonttype'] = 42\n",
    "import time\n",
    "import scipy\n",
    "from scipy.sparse.linalg import LinearOperator\n",
    "from scipy.sparse import random\n",
    "from scipy import stats\n",
    "import torch\n",
    "import math\n",
    "import sklearn.linear_model\n",
    "from torch.utils.data import Dataset, DataLoader\n",
    "from torch.autograd import Variable\n",
    "import scipy.io as sio\n",
    "import torch.nn.functional as F\n",
    "from sklearn import svm\n",
    "from sklearn.datasets import make_blobs\n",
    "\n",
    "from sklearn.cluster import MiniBatchKMeans, KMeans\n",
    "from sklearn.metrics.pairwise import pairwise_distances_argmin\n",
    "from sklearn.datasets import make_blobs"
   ]
  },
  {
   "cell_type": "code",
   "execution_count": 2,
   "metadata": {},
   "outputs": [
    {
     "name": "stdout",
     "output_type": "stream",
     "text": [
      "X_train: (49000, 3, 32, 32)\n",
      "y_train: (49000,)\n",
      "X_val: (1000, 3, 32, 32)\n",
      "y_val: (1000,)\n",
      "X_test: (1000, 3, 32, 32)\n",
      "y_test: (1000,)\n"
     ]
    }
   ],
   "source": [
    "from data_utils import get_CIFAR10_data\n",
    "# Load the (preprocessed) CIFAR-10 data.\n",
    "data = get_CIFAR10_data()\n",
    "for k, v in list(data.items()):\n",
    "    print(f\"{k}: {v.shape}\")\n"
   ]
  },
  {
   "cell_type": "code",
   "execution_count": 3,
   "metadata": {
    "code_folding": [],
    "id": "qyXYpGw6imPE"
   },
   "outputs": [],
   "source": [
    "def generate_sign_patterns(X, P, verbose=False): \n",
    "    \"\"\" \n",
    "    Inputs: X (input to the layer), P (number of samples, also number of neurons)\n",
    "    Outputs: P, [D_1,...D_P], [u_1,...,u_P]\n",
    "             where each D is Diag(1[X@u_i>=0]), u_i a random vector\n",
    "    See remark 3.3 in (Pilanci&Ergen 2020)\n",
    "    \"The convex program (8) can be approximated by sampling a set\n",
    "     of diagonal matrices D_1,...,D_P\"\n",
    "    \"\"\"\n",
    "    n, d = X.shape\n",
    "    sign_pattern_list = []  # sign patterns, stores D_1,...,D_P\n",
    "    u_vector_list = []      # random vectors used to generate the sign patterns\n",
    "\n",
    "    for i in range(P): \n",
    "        # Obtain a sign pattern\n",
    "        # Future work: use a different sampling distribution than Gaussian\n",
    "        \n",
    "        # First, sample u from normal distribution\n",
    "        u = np.random.normal(0, 1, (d,1)) \n",
    "        \n",
    "        # Our sign pattern is Diag(1[X@u_i>=0])\n",
    "        sampled_sign_pattern = (np.matmul(X, u) >= 0)[:,0]\n",
    "        \n",
    "        sign_pattern_list.append(sampled_sign_pattern)\n",
    "        u_vector_list.append(u)\n",
    "    if verbose:\n",
    "        print(\"Number of sign patterns generated: \" + str(len(sign_pattern_list)))\n",
    "    return len(sign_pattern_list), sign_pattern_list, u_vector_list\n",
    "\n",
    "def generate_u_vectors_manual(prev_dim, P, verbose=False): \n",
    "    \n",
    "    d = prev_dim\n",
    "    u_vector_list = []      # random vectors used to generate the sign patterns\n",
    "\n",
    "    for i in range(P): \n",
    "        # Obtain a sign pattern\n",
    "        # Future work: use a different sampling distribution than Gaussian\n",
    "        \n",
    "        # First, sample u from normal distribution\n",
    "        u = np.random.normal(0, 1, (d,1)) \n",
    "        \n",
    "        u_vector_list.append(u)\n",
    "    if verbose:\n",
    "        print(\"Number of sign patterns generated: \" + str(len(u_vector_list)))\n",
    "    return u_vector_list\n",
    "\n",
    "def one_hot(labels, num_classes=10):\n",
    "    \"\"\"Embedding labels to one-hot form.\n",
    "\n",
    "    Args:\n",
    "      labels: (LongTensor) class labels, sized [N,].\n",
    "      num_classes: (int) number of classes.\n",
    "\n",
    "    Returns:\n",
    "      (tensor) encoded labels, sized [N, #classes].\n",
    "    \"\"\"\n",
    "    y = torch.eye(num_classes) \n",
    "    return y[labels.long()] \n",
    "\n",
    "class PrepareData(Dataset):\n",
    "    #  converts data from numpy array to torch tensor\n",
    "    def __init__(self, X, y):\n",
    "        if not torch.is_tensor(X):\n",
    "            self.X = torch.from_numpy(X)\n",
    "        if not torch.is_tensor(y):\n",
    "            self.y = torch.from_numpy(y)\n",
    "\n",
    "    def __len__(self):\n",
    "        return len(self.X)\n",
    "\n",
    "    def __getitem__(self, idx):\n",
    "        return self.X[idx], self.y[idx]\n",
    "\n",
    "class PrepareData3D(Dataset):\n",
    "    def __init__(self, X, y):\n",
    "        if not torch.is_tensor(X):\n",
    "            self.X = torch.from_numpy(X)\n",
    "        else:\n",
    "            self.X = X\n",
    "            \n",
    "        if not torch.is_tensor(y):\n",
    "            self.y = torch.from_numpy(y)\n",
    "        else:\n",
    "            self.y = y\n",
    "        \n",
    "        \n",
    "\n",
    "    def __len__(self):\n",
    "        return len(self.X)\n",
    "\n",
    "    def __getitem__(self, idx):\n",
    "        return self.X[idx], self.y[idx]"
   ]
  },
  {
   "cell_type": "code",
   "execution_count": 40,
   "metadata": {
    "code_folding": [],
    "id": "BpKsLvrZimPG"
   },
   "outputs": [],
   "source": [
    "class custom_cvx_layer_multilayer(torch.nn.Module):\n",
    "    def __init__(self, n, d, num_neurons_list, u_vector_array, num_layers=1, num_classes=10, batchmomentum=0.1):\n",
    "        super(custom_cvx_layer_multilayer, self).__init__()\n",
    "        assert len(num_neurons_list) == num_layers\n",
    "        assert len(u_vector_array) == num_layers\n",
    "        \n",
    "        self.num_layers = num_layers\n",
    "        self.out_layer = 0\n",
    "        self.v_list = torch.nn.ParameterList()\n",
    "        self.w_list = torch.nn.ParameterList()\n",
    "        self.h_list = torch.nn.ParameterList()\n",
    "        self.batchnorm_list = []\n",
    "        \n",
    "        for i in range(num_layers):\n",
    "            if i == 0:\n",
    "                prev_dimension = d\n",
    "            else:\n",
    "                prev_dimension = num_neurons_list[i - 1] \n",
    "            \n",
    "            # using Xavier initialization \n",
    "            if True: #i == 0:\n",
    "                v_data = torch.zeros(num_neurons_list[i], prev_dimension, num_classes)\n",
    "                w_data = torch.zeros(num_neurons_list[i], prev_dimension, num_classes)\n",
    "            else:\n",
    "                # Xavier initialization\n",
    "                v_data = torch.randn(num_neurons_list[i], prev_dimension, num_classes) * math.sqrt(1 / prev_dimension)\n",
    "                w_data = torch.randn(num_neurons_list[i], prev_dimension, num_classes) * math.sqrt(1 / prev_dimension)\n",
    "                \n",
    "            self.v_list.append(torch.nn.Parameter(data=v_data, requires_grad=True))\n",
    "            self.w_list.append(torch.nn.Parameter(data=w_data, requires_grad=True))\n",
    "            \n",
    "            u_vectors_as_np = np.float32(np.asarray(u_vector_array[i]).reshape((num_neurons_list[i], -1)).T)\n",
    "            self.h_list.append(torch.nn.Parameter(data=torch.tensor(u_vectors_as_np), requires_grad=False))\n",
    "            # self.batchnorm_list.append(torch.nn.BatchNorm1d(num_neurons_list[i], eps=1e-5, momentum=batchmomentum, affine=False))  # TODO: freeze?\n",
    "\n",
    "    def set_out_layer(self, layer):\n",
    "        self.out_layer = layer\n",
    "        for i in range(self.num_layers):\n",
    "            if i != layer:\n",
    "                self.v_list[i].requires_grad = False\n",
    "                self.w_list[i].requires_grad = False\n",
    "                # self.batchnorm_list[i].requires_grad = False\n",
    "            if i == layer:\n",
    "                self.v_list[i].requires_grad = True\n",
    "                self.w_list[i].requires_grad = True\n",
    "                # self.batchnorm_list[i].requires_grad = True\n",
    "                \n",
    "    def current_vwh(self):\n",
    "        v = self.v_list[self.out_layer]\n",
    "        w = self.w_list[self.out_layer]\n",
    "        h = self.h_list[self.out_layer]\n",
    "        return v, w, h\n",
    "    \n",
    "    def current_layer_input(self, x, device):\n",
    "        x = torch.from_numpy(x).to(device).float()\n",
    "        next_input = x.view(x.shape[0], -1)\n",
    "        \n",
    "        for i in range(self.out_layer):\n",
    "            \n",
    "            sign_patterns = (torch.matmul(next_input, self.h_list[i]) >= 0).unsqueeze(2)\n",
    "            Xv_w = torch.matmul(next_input, self.v_list[i] - self.w_list[i])\n",
    "            DXv_w = torch.mul(sign_patterns, Xv_w.permute(1, 0, 2))\n",
    "            # DXv_w_batchnormed = self.batchnorm_list[i](DXv_w)\n",
    "            # next_input = DXv_w_batchnormed\n",
    "            next_input = torch.amax(DXv_w, dim=-1)  # Max pooling\n",
    "            \n",
    "        #for i in range(self.out_layer):\n",
    "        #    v_normed = self.v_list[i] / torch.sqrt(torch.linalg.norm(self.v_list[i], dim = -1, keepdims=True))\n",
    "        #    w_normed = self.w_list[i] / torch.sqrt(torch.linalg.norm(self.w_list[i], dim = -1, keepdims=True))\n",
    "        #    alpha = torch.cat([v_normed, w_normed], dim=-1).view(v_normed.shape[0], -1)\n",
    "        #    next_input = F.relu(x @ alpha)\n",
    "        \n",
    "        next_input = next_input.detach().cpu().numpy()\n",
    "        return next_input\n",
    "    \n",
    "    def apply_beta_lasso(self, lr, b_lambda, b_beta):\n",
    "        v = self.v_list[self.out_layer].data\n",
    "        w = self.w_list[self.out_layer].data\n",
    "        \n",
    "        v = v - (lr * b_lambda * torch.sign(v))\n",
    "        w = w - (lr * b_lambda * torch.sign(w))\n",
    "        \n",
    "        w = w * (torch.abs(w) >= b_lambda * b_beta)\n",
    "        v = v * (torch.abs(v) >= b_lambda * b_beta)\n",
    "\n",
    "    def forward(self, x):\n",
    "        # next_input = self.current_layer_input(x)\n",
    "        next_input = x\n",
    "        sign_patterns = (torch.matmul(next_input, self.h_list[self.out_layer]) >= 0).unsqueeze(2)\n",
    "        Xv_w = torch.matmul(next_input, self.v_list[self.out_layer] - self.w_list[self.out_layer])\n",
    "        DXv_w = torch.mul(sign_patterns, Xv_w.permute(1, 0, 2))\n",
    "        y_pred = torch.sum(DXv_w, dim=1, keepdim=False)\n",
    "        return y_pred\n",
    "\n",
    "def loss_func_cvxproblem_multilayer(yhat, y, model, _x, beta, rho, device):\n",
    "    \"\"\"\n",
    "    This implements the convex problem described by equation (8)\n",
    "    \"\"\"\n",
    "    # term 1, the square-distance loss\n",
    "    loss = 0.5 * torch.norm(yhat - y)**2/y.shape[0]\n",
    "    \n",
    "    # term 2, the regularization term\n",
    "    v, w, h = model.current_vwh()\n",
    "    norms1=torch.norm(v, dim=0)\n",
    "    norms2=torch.norm(w, dim=0)\n",
    "    loss = loss + beta * torch.sum(norms1)\n",
    "    loss = loss + beta * torch.sum(norms2)\n",
    "    \n",
    "    # term 3, enforces the inequality constraints\n",
    "    if rho>0:\n",
    "        #current_input = model.current_layer_input(_x)\n",
    "        current_input = _x\n",
    "        sign_patterns = (torch.matmul(current_input, h) >= 0).unsqueeze(2)\n",
    "        Xv = torch.matmul(current_input, torch.sum(v, dim=2, keepdim=True))\n",
    "        DXv = torch.mul(sign_patterns, Xv.permute(1, 0, 2))\n",
    "        relu_term_v = torch.max(-2*DXv + Xv.permute(1, 0, 2), torch.Tensor([0]).to(device))\n",
    "        loss = loss + rho * torch.sum(relu_term_v)\n",
    "\n",
    "        Xw = torch.matmul(current_input, torch.sum(w, dim=2, keepdim=True))\n",
    "        DXw = torch.mul(sign_patterns, Xw.permute(1, 0, 2))\n",
    "        relu_term_w = torch.max(-2*DXw + Xw.permute(1, 0, 2), torch.Tensor([0]).to(device))\n",
    "        loss = loss + rho * torch.sum(relu_term_w)\n",
    "    \n",
    "    return loss\n",
    "\n",
    "\n",
    "def validation_cvxproblem_multilayer(model, testloader, beta, rho, device):\n",
    "    test_loss = 0\n",
    "    test_correct = 0\n",
    "\n",
    "    with torch.no_grad():\n",
    "        for ix, (_x, _y) in enumerate(testloader):\n",
    "            _x = Variable(_x).float().to(device)\n",
    "            _y = Variable(_y).float().to(device)\n",
    "            _x = _x.view(_x.shape[0], -1)\n",
    "\n",
    "            yhat = model(_x).float()\n",
    "\n",
    "            loss = loss_func_cvxproblem_multilayer(yhat, one_hot(_y).to(device), model, _x, beta, rho, device)\n",
    "            test_loss += loss.item()\n",
    "            test_correct += torch.eq(torch.argmax(yhat, dim=1), _y).float().sum()\n",
    "\n",
    "    return test_loss, test_correct\n",
    "    \n",
    "\n",
    "\n",
    "def sgd_solver_cvxproblem_multilayer(A_train, y_train, A_test, y_test, num_epochs_list, num_neurons_list, beta, \n",
    "                       learning_rate, batch_size, rho, u_vector_array, verbose=False, device='cuda'):\n",
    "    \n",
    "    device = torch.device(device)\n",
    "\n",
    "    n, d = A_train.shape\n",
    "    \n",
    "    # create the model\n",
    "    num_layers = len(num_neurons_list)\n",
    "    model = custom_cvx_layer_multilayer(n, d, num_neurons_list, u_vector_array, num_layers).to(device)\n",
    "    \n",
    "    # arrays for saving the accuracy\n",
    "    epochs_length = np.sum(np.array(num_epochs_list))\n",
    "    losses = np.zeros((num_layers, int(epochs_length*np.ceil(A_train.shape[0] / batch_size)))) \n",
    "    accs = np.zeros(losses.shape)\n",
    "    \n",
    "    losses_test = np.zeros((num_layers, epochs_length+1))\n",
    "    accs_test = np.zeros((num_layers, epochs_length+1))\n",
    "\n",
    "    \n",
    "    times = np.zeros((losses.shape[1] * num_layers + 1))\n",
    "    times[0] = time.time()\n",
    "    \n",
    "    time_iter = 0\n",
    "    for L in range(num_layers):\n",
    "        print(\"Training layer \", L, \" with learning rate \", learning_rate[L])\n",
    "        model.set_out_layer(L)\n",
    "        \n",
    "        # prep current_inputs\n",
    "        train_input = model.current_layer_input(A_train, device)\n",
    "        test_input = model.current_layer_input(A_test, device)\n",
    "        \n",
    "        # column normalization\n",
    "        if L > 0:\n",
    "            train_input = (train_input - np.mean(train_input, axis=0, keepdims=True)) / np.std(train_input, axis=0, keepdims=True)\n",
    "            test_input = (test_input - np.mean(test_input, axis=0, keepdims=True)) / np.std(test_input, axis=0, keepdims=True)\n",
    "        \n",
    "        # dataset loaders (minibatch)\n",
    "        ds = PrepareData3D(X = train_input, y=y_train)\n",
    "        ds = DataLoader(ds, batch_size=batch_size, shuffle=True)\n",
    "        ds_test = PrepareData3D(X=test_input, y=y_test)\n",
    "        ds_test = DataLoader(ds_test, batch_size=A_test.shape[0], shuffle=False) # note batch_size\n",
    "        \n",
    "        model.eval()\n",
    "        losses_test[L][0], accs_test[L][0] = validation_cvxproblem_multilayer(model, ds_test, beta, rho, device) # loss on the entire test set\n",
    "        iter_no = 0\n",
    "                                                   \n",
    "        # new optimizer to reset momentum so that it doesn't update frozen layers\n",
    "        optimizer = torch.optim.Adam(model.parameters(), lr=learning_rate[L])\n",
    "        # optimizer = torch.optim.SGD(model.parameters(), lr=learning_rate[L])\n",
    "        \n",
    "        num_epochs = num_epochs_list[L]\n",
    "        \n",
    "        for i in range(num_epochs):\n",
    "            model.train()\n",
    "            for ix, (_x, _y) in enumerate(ds):\n",
    "                #=========make input differentiable=======================\n",
    "                _x = Variable(_x).float().to(device)\n",
    "                _y = Variable(_y).float().to(device)\n",
    "\n",
    "                #========forward pass=====================================\n",
    "                yhat = model(_x).float()\n",
    "                \n",
    "                loss = loss_func_cvxproblem_multilayer(yhat, one_hot(_y).to(device), model, _x, beta, rho, device)\n",
    "                correct = torch.eq(torch.argmax(yhat, dim=1), _y).float().sum() # accuracy\n",
    "\n",
    "                #=======backward pass=====================================\n",
    "                optimizer.zero_grad() # zero the gradients on each pass before the update\n",
    "                loss.backward() # backpropagate the loss through the model\n",
    "                optimizer.step() # update the gradients w.r.t the loss\n",
    "                \n",
    "                # beta lasso step \n",
    "                # model.apply_beta_lasso(lr = learning_rate[L], b_lambda = 1e-12, b_beta = 50)\n",
    "\n",
    "                losses[L][iter_no] = loss.item() # loss on the minibatch\n",
    "                accs[L][iter_no] = correct\n",
    "\n",
    "                iter_no += 1\n",
    "                time_iter += 1\n",
    "                times[time_iter] = time.time()\n",
    "\n",
    "            model.eval()\n",
    "            # get test loss and accuracy\n",
    "            losses_test[L][i+1], accs_test[L][i+1] = validation_cvxproblem_multilayer(model, ds_test, beta, rho, device) # accuracy on the entire test set\n",
    "\n",
    "            if i % 1 == 0:\n",
    "                print(\"Epoch [{}/{}], TRAIN: cvx loss: {} acc: {}. TEST: cvx loss: {} acc: {}\".format(i, num_epochs,\n",
    "                    np.round(losses[L][iter_no-1], 3), np.round(accs[L][iter_no-1]/batch_size, 3), \n",
    "                    np.round(losses_test[L][i+1], 3), np.round(accs_test[L][i+1]/A_test.shape[0], 3)))\n",
    "            \n",
    "    return accs/batch_size, accs_test/A_test.shape[0], times, model, losses, losses_test"
   ]
  },
  {
   "cell_type": "code",
   "execution_count": 5,
   "metadata": {
    "code_folding": [],
    "colab": {
     "base_uri": "https://localhost:8080/",
     "height": 425
    },
    "executionInfo": {
     "elapsed": 645,
     "status": "error",
     "timestamp": 1618022709516,
     "user": {
      "displayName": "Elijah Spiegel",
      "photoUrl": "",
      "userId": "13789567813973881906"
     },
     "user_tz": 420
    },
    "id": "GtZ8ugDZimPJ",
    "outputId": "9bf4bb66-f1fb-4daa-b6dd-8ef3cd78b108"
   },
   "outputs": [
    {
     "name": "stdout",
     "output_type": "stream",
     "text": [
      "(49000, 3072) (49000,) (1000, 3072) (1000,)\n"
     ]
    }
   ],
   "source": [
    "# cifar-10 -- using the version downloaded from \"http://www.cs.toronto.edu/~kriz/cifar.html\"\n",
    "# A=sio.loadmat('CIFAR10_multiclass.mat')['A']\n",
    "# A_test=sio.loadmat('CIFAR10_multiclass.mat')['Atest']\n",
    "# y=sio.loadmat('CIFAR10_multiclass.mat')['y1']\n",
    "# y_test=sio.loadmat('CIFAR10_multiclass.mat')['ytest1']\n",
    "\n",
    "A = data['X_train']\n",
    "A = A.reshape((A.shape[0], -1))\n",
    "A_test = data['X_val']\n",
    "A_test = A_test.reshape((A_test.shape[0], -1))\n",
    "y = data['y_train']\n",
    "# y = y.reshape((y.shape[0], 1))\n",
    "y_test = data['y_val']  \n",
    "# y_test = y_test.reshape((y_test.shape[0], 1))\n",
    "\n",
    "meanA=np.mean(A,axis=0)\n",
    "A=A-meanA\n",
    "A_test=A_test-meanA\n",
    "\n",
    "\n",
    "# to get the first two classes only (for binary classification)\n",
    "# inds = np.argwhere(y <= 1)[:,0] # get the classes 0 and 1\n",
    "# A = A[inds, :]\n",
    "# y = y[inds].reshape((inds.shape[0], 1))\n",
    "# y=2*y.astype(float)-1\n",
    "# inds_test = np.argwhere(y_test <= 1)[:,0] # get the classes 0 and 1\n",
    "# A_test = A_test[inds_test, :]\n",
    "# y_test = y_test[inds_test].reshape((inds_test.shape[0], 1))\n",
    "# y_test=2*y_test.astype(float)-1\n",
    "\n",
    "\n",
    "n, d = A.shape\n",
    "print(A.shape, y.shape, A_test.shape, y_test.shape)\n"
   ]
  },
  {
   "cell_type": "code",
   "execution_count": 6,
   "metadata": {
    "code_folding": [],
    "id": "Yofxh-IiimPL",
    "outputId": "348f9bab-e8c7-468f-cf70-25f3cb71cbd5"
   },
   "outputs": [
    {
     "name": "stdout",
     "output_type": "stream",
     "text": [
      "Number of sign patterns generated: 500\n",
      "Number of sign patterns generated: 500\n"
     ]
    }
   ],
   "source": [
    "# SGD solver for the nonconvex problem\n",
    "# generate random sign patterns\n",
    "P, verbose = 500, True # P is number of sign patterns to generate *and* number of neurons\n",
    "\n",
    "# num_neurons, sign_pattern_list, u_vector_list = generate_sign_patterns(A, P, verbose)\n",
    "num_neurons = P\n",
    "u_vector_list = generate_u_vectors_manual(A.shape[1], P, verbose)\n",
    "u_vector_list_2 = generate_u_vectors_manual(P, P, verbose)\n",
    "u_vector_list_3 = generate_u_vectors_manual(P, P, verbose)\n",
    "u_vector_array = [u_vector_list, u_vector_list_2]\n",
    "num_neurons_list = [P, P]"
   ]
  },
  {
   "cell_type": "code",
   "execution_count": null,
   "metadata": {
    "scrolled": true
   },
   "outputs": [
    {
     "name": "stderr",
     "output_type": "stream",
     "text": [
      "/opt/conda/envs/convexlayerwiselearning/lib/python3.7/site-packages/torch/nn/modules/container.py:434: UserWarning: Setting attributes on ParameterList is not supported.\n",
      "  warnings.warn(\"Setting attributes on ParameterList is not supported.\")\n"
     ]
    },
    {
     "name": "stdout",
     "output_type": "stream",
     "text": [
      "Training layer  0  with learning rate  1e-07\n",
      "Epoch [0/60], TRAIN: cvx loss: 0.405 acc: 0.454. TEST: cvx loss: 0.391 acc: 0.458\n",
      "Epoch [1/60], TRAIN: cvx loss: 0.406 acc: 0.544. TEST: cvx loss: 0.44 acc: 0.464\n",
      "Epoch [2/60], TRAIN: cvx loss: 0.386 acc: 0.564. TEST: cvx loss: 0.409 acc: 0.476\n",
      "Epoch [3/60], TRAIN: cvx loss: 0.364 acc: 0.61. TEST: cvx loss: 0.463 acc: 0.458\n",
      "Epoch [4/60], TRAIN: cvx loss: 0.401 acc: 0.59. TEST: cvx loss: 0.518 acc: 0.411\n"
     ]
    }
   ],
   "source": [
    "beta = 1e-3\n",
    "rho = 1e-5\n",
    "learning_rates = [1e-7, 1e-6, 1e-6] # one per layer\n",
    "num_epochs_list = [60, 60, 60]\n",
    "batch_size = 500\n",
    "\n",
    "results_cvx = sgd_solver_cvxproblem_multilayer(A, y, A_test, y_test, num_epochs_list, num_neurons_list, beta, \n",
    "                       learning_rates, batch_size, rho, u_vector_array, verbose=False)"
   ]
  },
  {
   "cell_type": "code",
   "execution_count": 59,
   "metadata": {
    "id": "kMkGyl70imPM"
   },
   "outputs": [
    {
     "data": {
      "image/png": "[encoded data removed]",
      "text/plain": [
       "<Figure size 432x288 with 1 Axes>"
      ]
     },
     "metadata": {
      "needs_background": "light"
     },
     "output_type": "display_data"
    }
   ],
   "source": [
    "train_accs = results_cvx[0]\n",
    "for i in range(train_accs.shape[0]):\n",
    "    plt.plot(train_accs[i])\n",
    "# plt.xlim([0, 1000])\n",
    "# plt.ylim([0.4, 0.8])\n",
    "plt.show()"
   ]
  },
  {
   "cell_type": "code",
   "execution_count": 66,
   "metadata": {},
   "outputs": [
    {
     "data": {
      "image/png": "[encoded data removed]",
      "text/plain": [
       "<Figure size 432x288 with 1 Axes>"
      ]
     },
     "metadata": {
      "needs_background": "light"
     },
     "output_type": "display_data"
    }
   ],
   "source": [
    "plt.clf()\n",
    "train_losses = results_cvx[4]\n",
    "for i in range(train_losses.shape[0]):\n",
    "    plt.plot(train_losses[i])\n",
    "# plt.xlim([0, 4000])\n",
    "plt.ylim([0, 1])\n",
    "plt.show()"
   ]
  },
  {
   "cell_type": "code",
   "execution_count": 69,
   "metadata": {},
   "outputs": [
    {
     "data": {
      "image/png": "[encoded data removed]",
      "text/plain": [
       "<Figure size 432x288 with 1 Axes>"
      ]
     },
     "metadata": {
      "needs_background": "light"
     },
     "output_type": "display_data"
    }
   ],
   "source": [
    "plt.clf()\n",
    "test_accs = results_cvx[1]\n",
    "for i in range(test_accs.shape[0]):\n",
    "    plt.plot(test_accs[i])\n",
    "plt.xlim([0, 100])\n",
    "plt.show()"
   ]
  },
  {
   "cell_type": "code",
   "execution_count": 71,
   "metadata": {},
   "outputs": [
    {
     "data": {
      "image/png": "[encoded data removed]",
      "text/plain": [
       "<Figure size 432x288 with 1 Axes>"
      ]
     },
     "metadata": {
      "needs_background": "light"
     },
     "output_type": "display_data"
    }
   ],
   "source": [
    "plt.clf()\n",
    "test_losses = results_cvx[5]\n",
    "for i in range(test_losses.shape[0]):\n",
    "    plt.plot(test_losses[i])\n",
    "plt.xlim([0, 100])\n",
    "plt.show()"
   ]
  },
  {
   "cell_type": "code",
   "execution_count": null,
   "metadata": {},
   "outputs": [],
   "source": []
  }
 ],
 "metadata": {
  "colab": {
   "collapsed_sections": [],
   "name": "convexNN_py1.ipynb",
   "provenance": []
  },
  "kernelspec": {
   "display_name": "Python [conda env:convexlayerwiselearning]",
   "language": "python",
   "name": "conda-env-convexlayerwiselearning-py"
  },
  "language_info": {
   "codemirror_mode": {
    "name": "ipython",
    "version": 3
   },
   "file_extension": ".py",
   "mimetype": "text/x-python",
   "name": "python",
   "nbconvert_exporter": "python",
   "pygments_lexer": "ipython3",
   "version": "3.7.10"
  }
 },
 "nbformat": 4,
 "nbformat_minor": 1
}
