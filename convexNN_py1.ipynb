{
 "cells": [
  {
   "cell_type": "code",
   "execution_count": 1,
   "metadata": {
    "code_folding": [],
    "id": "4euARiTbimO6"
   },
   "outputs": [],
   "source": [
    "# libraries \n",
    "import numpy as np\n",
    "import numpy.matlib\n",
    "import cvxpy\n",
    "import matplotlib\n",
    "import matplotlib.pyplot as plt\n",
    "matplotlib.rcParams['pdf.fonttype'] = 42\n",
    "matplotlib.rcParams['ps.fonttype'] = 42\n",
    "import time\n",
    "import scipy\n",
    "from scipy.sparse.linalg import LinearOperator\n",
    "from scipy.sparse import random\n",
    "from scipy import stats\n",
    "import torch\n",
    "import sklearn.linear_model\n",
    "from torch.utils.data import Dataset, DataLoader\n",
    "from torch.autograd import Variable\n",
    "import scipy.io as sio\n",
    "import torch.nn.functional as F\n",
    "from sklearn import svm\n",
    "from sklearn.datasets import make_blobs\n",
    "\n",
    "from sklearn.cluster import MiniBatchKMeans, KMeans\n",
    "from sklearn.metrics.pairwise import pairwise_distances_argmin\n",
    "from sklearn.datasets import make_blobs"
   ]
  },
  {
   "cell_type": "code",
   "execution_count": 2,
   "metadata": {},
   "outputs": [
    {
     "name": "stdout",
     "output_type": "stream",
     "text": [
      "X_train: (49000, 3, 32, 32)\n",
      "y_train: (49000,)\n",
      "X_val: (1000, 3, 32, 32)\n",
      "y_val: (1000,)\n",
      "X_test: (1000, 3, 32, 32)\n",
      "y_test: (1000,)\n"
     ]
    }
   ],
   "source": [
    "from data_utils import get_CIFAR10_data\n",
    "# Load the (preprocessed) CIFAR-10 data.\n",
    "data = get_CIFAR10_data()\n",
    "for k, v in list(data.items()):\n",
    "    print(f\"{k}: {v.shape}\")\n"
   ]
  },
  {
   "cell_type": "code",
   "execution_count": 34,
   "metadata": {
    "code_folding": [],
    "id": "qyXYpGw6imPE"
   },
   "outputs": [],
   "source": [
    "def generate_u_vectors_manual(prev_dim, P, verbose=False): \n",
    "    \n",
    "    d = prev_dim\n",
    "    u_vector_list = []      # random vectors used to generate the sign patterns\n",
    "\n",
    "    for i in range(P): \n",
    "        # Obtain a sign pattern\n",
    "        # Future work: use a different sampling distribution than Gaussian\n",
    "        \n",
    "        # First, sample u from normal distribution\n",
    "        u = np.random.normal(0, 1, (d,1)) \n",
    "        \n",
    "        u_vector_list.append(u)\n",
    "    if verbose:\n",
    "        print(\"Number of sign patterns generated: \" + str(len(u_vector_list)))\n",
    "    return u_vector_list\n",
    "\n",
    "def one_hot(labels, num_classes=10):\n",
    "    \"\"\"Embedding labels to one-hot form.\n",
    "\n",
    "    Args:\n",
    "      labels: (LongTensor) class labels, sized [N,].\n",
    "      num_classes: (int) number of classes.\n",
    "\n",
    "    Returns:\n",
    "      (tensor) encoded labels, sized [N, #classes].\n",
    "    \"\"\"\n",
    "    y = torch.eye(num_classes) \n",
    "    return y[labels.long()] \n",
    "\n",
    "class PrepareData(Dataset):\n",
    "    #  converts data from numpy array to torch tensor\n",
    "    def __init__(self, X, y):\n",
    "        if not torch.is_tensor(X):\n",
    "            self.X = torch.from_numpy(X)\n",
    "        if not torch.is_tensor(y):\n",
    "            self.y = torch.from_numpy(y)\n",
    "\n",
    "    def __len__(self):\n",
    "        return len(self.X)\n",
    "\n",
    "    def __getitem__(self, idx):\n",
    "        return self.X[idx], self.y[idx]\n"
   ]
  },
  {
   "cell_type": "code",
   "execution_count": 35,
   "metadata": {
    "code_folding": [],
    "id": "BpKsLvrZimPG"
   },
   "outputs": [],
   "source": [
    "class custom_cvx_layer(torch.nn.Module):\n",
    "    def __init__(self, n, d, num_neurons, u_vector_list, multiclass = False, out_layer = True):\n",
    "        \"\"\"\n",
    "        Variables:\n",
    "        w, v: matrices, arguments to the argmin of (8) in paper\n",
    "        u_vectors_as_np: numpy array of vectors used to generate diagonals\n",
    "        h: torch tensor of u_vectors_as_np\n",
    "        \"\"\"\n",
    "        super(custom_cvx_layer, self).__init__()\n",
    "        self.multiclass = multiclass\n",
    "        self.out_layer = out_layer\n",
    "        \n",
    "        u_vectors_as_np = np.asarray(u_vector_list).reshape((num_neurons, d)).T\n",
    "        self.h = torch.nn.Parameter(data=torch.Tensor(u_vectors_as_np), requires_grad=False)  # (D, P)\n",
    "        \n",
    "        if self.multiclass:\n",
    "            self.v = torch.nn.Parameter(data=torch.zeros(num_neurons, d, num_classes), requires_grad=True)  # (P, D, C)\n",
    "            self.w = torch.nn.Parameter(data=torch.zeros(num_neurons, d, num_classes), requires_grad=True)\n",
    "            self.h.unsqueeze(2)  # (D, P, 1)\n",
    "        else:\n",
    "            self.w = torch.nn.Parameter(data=torch.zeros(d, num_neurons), requires_grad=True)  # (D, P)\n",
    "            self.v = torch.nn.Parameter(data=torch.zeros(d, num_neurons), requires_grad=True)\n",
    "        \n",
    "    def forward(self, x):\n",
    "        \"\"\"\n",
    "        Generates sign patterns on the fly, then carries out the prediction\n",
    "        inside of (8)\n",
    "        \"\"\"\n",
    "        if self.multiclass:\n",
    "            x = x.view(x.shape[0], -1)\n",
    "        \n",
    "        sign_patterns = (torch.matmul(x, self.h) >= 0)\n",
    "        \n",
    "        Xv_w = torch.matmul(x, self.v - self.w)  # (N, P) if binary, (N, P), if multiclass (P, N, C)\n",
    "        \n",
    "        if self.multiclass:\n",
    "            Xv_w = Xv_w.permute(1, 0, 2)  # (N, P, C)\n",
    "            \n",
    "        DXv_w = torch.mul(sign_patterns, Xv_w)\n",
    "        \n",
    "        out = DXv_w  # (N, P) if binary, (N, P, C) if multiclass\n",
    "        \n",
    "        if self.out_layer:\n",
    "            out = torch.sum(DXv_w, dim=1, keepdim = False if self.multiclass else True)  # (N, 1) binary, (N, C) multiclass\n",
    "        \n",
    "        return out\n",
    "\n",
    "class custom_cvx_layer_multilayer(torch.nn.Module):\n",
    "    def __init__(self, n, d, num_neurons_list, u_vector_array, num_layers=1, batchmomentum=0.1, multiclass = False):\n",
    "        super(custom_cvx_layer_multilayer, self).__init__()\n",
    "        \n",
    "        assert len(num_neurons_list) == num_layers\n",
    "        assert len(u_vector_array) == num_layers\n",
    "        \n",
    "        self.multiclass = multiclass\n",
    "        self.num_layers = num_layers\n",
    "        self.out_layer = 0\n",
    "        self.layers = []\n",
    "        self.batchnorm_layers = []\n",
    "        \n",
    "        for i in range(num_layers):\n",
    "            if i == 0:\n",
    "                prev_dimension = d\n",
    "            else:\n",
    "                prev_dimension = num_neurons_list[i - 1]\n",
    "            u_vectors_as_np = np.float32(np.asarray(u_vector_array[i]).reshape((num_neurons_list[i], prev_dimension)).T)\n",
    "            self.layers.append(custom_cvx_layer(n, prev_dimension, num_neurons_list[i], u_vectors_as_np, multiclass, out_layer = True))           \n",
    "            self.batchnorm_layers.append(torch.nn.BatchNorm1d(prev_dimension, eps=1e-5, momentum=batchmomentum, affine=False))  # TODO: freeze?\n",
    "\n",
    "    def set_out_layer(self, layer):\n",
    "        self.out_layer = layer\n",
    "        for i in range(self.num_layers):\n",
    "            if i != layer:\n",
    "                self.layers[i].out_layer = False\n",
    "                self.layers[i].requires_grad = False\n",
    "                self.batchnorm_layers[i].requires_grad = False\n",
    "            if i == layer:\n",
    "                self.layers[i].out_layer = True\n",
    "                self.layers[i].requires_grad = True\n",
    "                self.batchnorm_layers[i].requires_grad = True\n",
    "                \n",
    "    def current_vwh(self):\n",
    "        v = self.layers[self.out_layer].v\n",
    "        w = self.layers[self.out_layer].w\n",
    "        h = self.layers[self.out_layer].h\n",
    "        return v, w, h\n",
    "    \n",
    "\n",
    "    def forward(self, x):\n",
    "        for i in range(self.out_layer + 1):\n",
    "            x = self.batchnorm_layers[i](x)\n",
    "            x = self.layers[i](x)\n",
    "        return x\n",
    "\n",
    "def loss_func_cvxproblem_binary(yhat, y, model, _x, beta, rho):\n",
    "    \"\"\"\n",
    "    This implements the conex problem described by equation (8)\n",
    "    \"\"\"\n",
    "    # term 1, the square-distance loss\n",
    "    loss = 0.5 * torch.norm(yhat - y)**2/y.shape[0]\n",
    "    \n",
    "    # term 2, the regularization term\n",
    "    m1=torch.mean(torch.norm(model.v, dim=0))\n",
    "    m2=torch.mean(torch.norm(model.w, dim=0))\n",
    "    norms1=torch.norm(model.v, dim=0)#*(torch.norm(model.v, dim=0)>=m1)\n",
    "    norms2=torch.norm(model.w, dim=0)#*(torch.norm(model.w, dim=0)>=m2)\n",
    "    loss = loss + beta * torch.sum(norms1)\n",
    "    loss = loss + beta * torch.sum(norms2)\n",
    "    \n",
    "    # term 3, enforces the inequality constraints\n",
    "    if rho>0:\n",
    "        sign_patterns = (torch.matmul(_x, model.h) >= 0)\n",
    "\n",
    "        Xv = torch.matmul(_x, model.v)\n",
    "        DXv = torch.mul(sign_patterns, Xv)\n",
    "        relu_term_v = torch.max(-2*DXv + Xv, torch.Tensor([0]))\n",
    "        loss = loss + rho * torch.sum(relu_term_v)\n",
    "\n",
    "        Xw = torch.matmul(_x, model.w)\n",
    "        DXw = torch.mul(sign_patterns, Xw)\n",
    "        relu_term_w = torch.max(-2*DXw + Xw, torch.Tensor([0]))\n",
    "        loss = loss + rho * torch.sum(relu_term_w)\n",
    "    \n",
    "    return loss\n",
    "\n",
    "def validation_cvxproblem_binary(model, testloader, beta, rho):\n",
    "    test_loss = 0\n",
    "    test_correct = 0\n",
    "    test_noncvx_cost = 0\n",
    "\n",
    "    for ix, (_x, _y) in enumerate(testloader):\n",
    "        _x = Variable(_x).float()\n",
    "        _y = Variable(_y).float()\n",
    "\n",
    "        yhat = model(_x).float()\n",
    "\n",
    "        loss = loss_func_cvxproblem(yhat, _y, model, _x, beta, rho)\n",
    "        test_loss += loss.item()\n",
    "        test_correct += torch.eq(torch.sign(yhat), _y).float().sum()\n",
    "        \n",
    "        test_noncvx_cost += get_nonconvex_cost(_y, model, _x, beta)\n",
    "\n",
    "    return test_loss, test_correct, test_noncvx_cost\n",
    "\n",
    "    \n",
    "def loss_func_cvxproblem_multiclass(yhat, y, model, _x, sign_patterns, beta, rho, device):\n",
    "    _x = _x.view(_x.shape[0], -1)\n",
    "    \n",
    "    # term 1\n",
    "    loss = 0.5 * torch.norm(yhat - y)**2\n",
    "    # term 2\n",
    "    loss = loss + beta * torch.sum(torch.norm(model.v, dim=1))\n",
    "    loss = loss + beta * torch.sum(torch.norm(model.w, dim=1))\n",
    "    \n",
    "    # term 3\n",
    "    sign_patterns = sign_patterns.unsqueeze(2) # N x P x 1\n",
    "    \n",
    "    Xv = torch.matmul(_x, torch.sum(model.v, dim=2, keepdim=True)) # N x d times P x d x 1 -> P x N x 1\n",
    "    DXv = torch.mul(sign_patterns, Xv.permute(1, 0, 2)) # P x N x 1\n",
    "    relu_term_v = torch.max(-2*DXv + Xv.permute(1, 0, 2), torch.Tensor([0]).to(device))\n",
    "    loss = loss + rho * torch.sum(relu_term_v)\n",
    "    \n",
    "    Xw = torch.matmul(_x, torch.sum(model.w, dim=2, keepdim=True))\n",
    "    DXw = torch.mul(sign_patterns, Xw.permute(1, 0, 2))\n",
    "    relu_term_w = torch.max(-2*DXw + Xw.permute(1, 0, 2), torch.Tensor([0]).to(device))\n",
    "    loss = loss + rho * torch.sum(relu_term_w)\n",
    "    \n",
    "    return loss\n",
    "\n",
    "def validation_cvxproblem_multiclass(model, testloader, beta, rho):\n",
    "    test_loss = 0\n",
    "    test_correct = 0\n",
    "\n",
    "    for ix, (_x, _y) in enumerate(testloader):\n",
    "        _x = Variable(_x).float()\n",
    "        _y = Variable(_y).float()\n",
    "\n",
    "        yhat = model(_x).float()\n",
    "\n",
    "        loss = loss_func_cvxproblem_multiclass(yhat, _y, model, _x, beta, rho)\n",
    "        test_loss += loss.item()\n",
    "        test_correct += torch.eq(torch.sign(yhat), _y).float().sum()\n",
    "\n",
    "    return test_loss, test_correct\n",
    "    \n",
    "def sgd_solver_cvxproblem_multilayer(A_train, y_train, A_test, y_test, num_epochs, num_neurons_list, beta, \n",
    "                       learning_rate, batch_size, rho, u_vector_array, multiclass = False, verbose=False):\n",
    "    \n",
    "    device = torch.device('cpu')\n",
    "\n",
    "    n, d = A_train.shape\n",
    "    \n",
    "    # create the model\n",
    "    num_layers = len(num_neurons_list)\n",
    "    model = custom_cvx_layer_multilayer(n, d, num_neurons_list, u_vector_array, num_layers, multiclass).to(device)\n",
    "    \n",
    "    # arrays for saving the accuracy\n",
    "    losses = np.zeros((num_layers, int(num_epochs*np.ceil(A_train.shape[0] / batch_size)))) \n",
    "    accs = np.zeros(losses.shape)\n",
    "    \n",
    "    losses_test = np.zeros((num_layers, num_epochs+1))\n",
    "    accs_test = np.zeros((num_layers, num_epochs+1))\n",
    "\n",
    "    \n",
    "    times = np.zeros((losses.shape[1] * num_layers + 1))\n",
    "    times[0] = time.time()\n",
    "    \n",
    "    # dataset loaders (minibatch)\n",
    "    ds = PrepareData(X=A_train, y=y_train)\n",
    "    ds = DataLoader(ds, batch_size=batch_size, shuffle=True)\n",
    "    ds_test = PrepareData(X=A_test, y=y_test)\n",
    "    ds_test = DataLoader(ds_test, batch_size=A_test.shape[0], shuffle=False) # note batch_size\n",
    "    \n",
    "    time_iter = 0\n",
    "    for L in range(num_layers):\n",
    "        print(\"Training layer \", L, \" with learning rate \", learning_rate[L])\n",
    "        model.set_out_layer(L)\n",
    "        losses_test[L][0], accs_test[L][0] = validation_cvxproblem_multilayer(model, ds_test, beta, rho) # loss on the entire test set\n",
    "        iter_no = 0\n",
    "        # new optimizer to reset momentum so that it doesn't update frozen layers\n",
    "        optimizer = torch.optim.Adam(model.parameters(), lr=learning_rate[L])\n",
    "    \n",
    "        for i in range(num_epochs):\n",
    "            for ix, (_x, _y) in enumerate(ds):\n",
    "                #=========make input differentiable=======================\n",
    "                _x = Variable(_x).float()\n",
    "                _y = Variable(_y).float()\n",
    "\n",
    "                #========forward pass=====================================\n",
    "                yhat = model(_x).float()\n",
    "                \n",
    "                loss = loss_func_cvxproblem_multilayer(yhat, _y, model, _x, beta, rho)\n",
    "                correct = torch.eq(torch.sign(yhat), _y).float().sum() # accuracy\n",
    "\n",
    "                #=======backward pass=====================================\n",
    "                optimizer.zero_grad() # zero the gradients on each pass before the update\n",
    "                loss.backward() # backpropagate the loss through the model\n",
    "                optimizer.step() # update the gradients w.r.t the loss\n",
    "\n",
    "                losses[L][iter_no] = loss.item() # loss on the minibatch\n",
    "                accs[L][iter_no] = correct\n",
    "\n",
    "                iter_no += 1\n",
    "                time_iter += 1\n",
    "                times[time_iter] = time.time()\n",
    "\n",
    "            # get test loss and accuracy\n",
    "            losses_test[L][i+1], accs_test[L][i+1] = validation_cvxproblem_multilayer(model, ds_test, beta, rho) # accuracy on the entire test set\n",
    "\n",
    "            if i % 1 == 0:\n",
    "                print(\"Epoch [{}/{}], TRAIN: cvx loss: {} acc: {}. TEST: cvx loss: {} acc: {}\".format(i, num_epochs,\n",
    "                    np.round(losses[L][iter_no-1], 3), np.round(accs[L][iter_no-1]/batch_size, 3), \n",
    "                    np.round(losses_test[L][i+1], 3), np.round(accs_test[L][i+1]/A_test.shape[0], 3)))\n",
    "            \n",
    "    return accs/batch_size, accs_test/A_test.shape[0], times, model, losses, losses_test"
   ]
  },
  {
   "cell_type": "code",
   "execution_count": 36,
   "metadata": {
    "code_folding": [],
    "colab": {
     "base_uri": "https://localhost:8080/",
     "height": 425
    },
    "executionInfo": {
     "elapsed": 645,
     "status": "error",
     "timestamp": 1618022709516,
     "user": {
      "displayName": "Elijah Spiegel",
      "photoUrl": "",
      "userId": "13789567813973881906"
     },
     "user_tz": 420
    },
    "id": "GtZ8ugDZimPJ",
    "outputId": "9bf4bb66-f1fb-4daa-b6dd-8ef3cd78b108"
   },
   "outputs": [
    {
     "name": "stdout",
     "output_type": "stream",
     "text": [
      "(9794, 3072) (9794, 1) (206, 3072) (206, 1)\n"
     ]
    }
   ],
   "source": [
    "# cifar-10 -- using the version downloaded from \"http://www.cs.toronto.edu/~kriz/cifar.html\"\n",
    "# A=sio.loadmat('CIFAR10_multiclass.mat')['A']\n",
    "# A_test=sio.loadmat('CIFAR10_multiclass.mat')['Atest']\n",
    "# y=sio.loadmat('CIFAR10_multiclass.mat')['y1']\n",
    "# y_test=sio.loadmat('CIFAR10_multiclass.mat')['ytest1']\n",
    "\n",
    "A = data['X_train']\n",
    "A = A.reshape((A.shape[0], -1))\n",
    "A_test = data['X_val']\n",
    "A_test = A_test.reshape((A_test.shape[0], -1))\n",
    "y = data['y_train']  # changed y to y_ints\n",
    "y_test = data['y_val']  # changed y_test to y_test_ints\n",
    "\n",
    "# \"\"\" Our changes \"\"\"\n",
    "# y = np.zeros((y_ints.shape[0], 10))\n",
    "# y[np.arange(y.shape[0]), y_ints] = 1\n",
    "# y_test = np.zeros((y_test_ints.size, 10))\n",
    "# y_test[np.arange(y_test_ints.size), y_test_ints] = 1\n",
    "\n",
    "meanA=np.mean(A,axis=0)\n",
    "A=A-meanA\n",
    "A_test=A_test-meanA\n",
    "\n",
    "\n",
    "# to get the first two classes only (for binary classification)\n",
    "inds = np.argwhere(y <= 1)[:,0] # get the classes 0 and 1\n",
    "A = A[inds, :]\n",
    "y = y[inds].reshape((inds.shape[0], 1))\n",
    "y=2*y.astype(float)-1\n",
    "inds_test = np.argwhere(y_test <= 1)[:,0] # get the classes 0 and 1\n",
    "A_test = A_test[inds_test, :]\n",
    "y_test = y_test[inds_test].reshape((inds_test.shape[0], 1))\n",
    "y_test=2*y_test.astype(float)-1\n",
    "\n",
    "\n",
    "\n",
    "n, d = A.shape\n",
    "print(A.shape, y.shape, A_test.shape, y_test.shape)\n"
   ]
  },
  {
   "cell_type": "code",
   "execution_count": 37,
   "metadata": {
    "code_folding": [],
    "id": "Yofxh-IiimPL",
    "outputId": "348f9bab-e8c7-468f-cf70-25f3cb71cbd5"
   },
   "outputs": [
    {
     "name": "stdout",
     "output_type": "stream",
     "text": [
      "Number of sign patterns generated: 500\n",
      "Number of sign patterns generated: 500\n",
      "Training layer  0  with learning rate  1e-07\n"
     ]
    },
    {
     "ename": "AttributeError",
     "evalue": "'custom_cvx_layer_multilayer' object has no attribute 'v'",
     "output_type": "error",
     "traceback": [
      "\u001b[1;31m---------------------------------------------------------------------------\u001b[0m",
      "\u001b[1;31mAttributeError\u001b[0m                            Traceback (most recent call last)",
      "\u001b[1;32m<ipython-input-37-15d1e21a6ff1>\u001b[0m in \u001b[0;36m<module>\u001b[1;34m\u001b[0m\n\u001b[0;32m     13\u001b[0m \u001b[0mu_vector_array\u001b[0m \u001b[1;33m=\u001b[0m \u001b[1;33m[\u001b[0m\u001b[0mu_vector_list\u001b[0m\u001b[1;33m,\u001b[0m \u001b[0mu_vector_list_2\u001b[0m\u001b[1;33m]\u001b[0m\u001b[1;33m\u001b[0m\u001b[1;33m\u001b[0m\u001b[0m\n\u001b[0;32m     14\u001b[0m \u001b[1;33m\u001b[0m\u001b[0m\n\u001b[1;32m---> 15\u001b[1;33m results_cvx = sgd_solver_cvxproblem_multilayer(A, y, A_test, y_test, num_epochs, num_neurons_list, beta, \n\u001b[0m\u001b[0;32m     16\u001b[0m                        learning_rates, batch_size, rho, u_vector_array, multiclass, verbose=False)\n",
      "\u001b[1;32m<ipython-input-35-97fc2efd1718>\u001b[0m in \u001b[0;36msgd_solver_cvxproblem_multilayer\u001b[1;34m(A_train, y_train, A_test, y_test, num_epochs, num_neurons_list, beta, learning_rate, batch_size, rho, u_vector_array, multiclass, verbose)\u001b[0m\n\u001b[0;32m    216\u001b[0m         \u001b[0mprint\u001b[0m\u001b[1;33m(\u001b[0m\u001b[1;34m\"Training layer \"\u001b[0m\u001b[1;33m,\u001b[0m \u001b[0mL\u001b[0m\u001b[1;33m,\u001b[0m \u001b[1;34m\" with learning rate \"\u001b[0m\u001b[1;33m,\u001b[0m \u001b[0mlearning_rate\u001b[0m\u001b[1;33m[\u001b[0m\u001b[0mL\u001b[0m\u001b[1;33m]\u001b[0m\u001b[1;33m)\u001b[0m\u001b[1;33m\u001b[0m\u001b[1;33m\u001b[0m\u001b[0m\n\u001b[0;32m    217\u001b[0m         \u001b[0mmodel\u001b[0m\u001b[1;33m.\u001b[0m\u001b[0mset_out_layer\u001b[0m\u001b[1;33m(\u001b[0m\u001b[0mL\u001b[0m\u001b[1;33m)\u001b[0m\u001b[1;33m\u001b[0m\u001b[1;33m\u001b[0m\u001b[0m\n\u001b[1;32m--> 218\u001b[1;33m         \u001b[0mlosses_test\u001b[0m\u001b[1;33m[\u001b[0m\u001b[0mL\u001b[0m\u001b[1;33m]\u001b[0m\u001b[1;33m[\u001b[0m\u001b[1;36m0\u001b[0m\u001b[1;33m]\u001b[0m\u001b[1;33m,\u001b[0m \u001b[0maccs_test\u001b[0m\u001b[1;33m[\u001b[0m\u001b[0mL\u001b[0m\u001b[1;33m]\u001b[0m\u001b[1;33m[\u001b[0m\u001b[1;36m0\u001b[0m\u001b[1;33m]\u001b[0m \u001b[1;33m=\u001b[0m \u001b[0mvalidation_cvxproblem_multilayer\u001b[0m\u001b[1;33m(\u001b[0m\u001b[0mmodel\u001b[0m\u001b[1;33m,\u001b[0m \u001b[0mds_test\u001b[0m\u001b[1;33m,\u001b[0m \u001b[0mbeta\u001b[0m\u001b[1;33m,\u001b[0m \u001b[0mrho\u001b[0m\u001b[1;33m)\u001b[0m \u001b[1;31m# loss on the entire test set\u001b[0m\u001b[1;33m\u001b[0m\u001b[1;33m\u001b[0m\u001b[0m\n\u001b[0m\u001b[0;32m    219\u001b[0m         \u001b[0miter_no\u001b[0m \u001b[1;33m=\u001b[0m \u001b[1;36m0\u001b[0m\u001b[1;33m\u001b[0m\u001b[1;33m\u001b[0m\u001b[0m\n\u001b[0;32m    220\u001b[0m         \u001b[1;31m# new optimizer to reset momentum so that it doesn't update frozen layers\u001b[0m\u001b[1;33m\u001b[0m\u001b[1;33m\u001b[0m\u001b[1;33m\u001b[0m\u001b[0m\n",
      "\u001b[1;32m<ipython-input-30-3cf9bea10dae>\u001b[0m in \u001b[0;36mvalidation_cvxproblem_multilayer\u001b[1;34m(model, testloader, beta, rho)\u001b[0m\n\u001b[0;32m    156\u001b[0m         \u001b[0myhat\u001b[0m \u001b[1;33m=\u001b[0m \u001b[0mmodel\u001b[0m\u001b[1;33m(\u001b[0m\u001b[0m_x\u001b[0m\u001b[1;33m)\u001b[0m\u001b[1;33m.\u001b[0m\u001b[0mfloat\u001b[0m\u001b[1;33m(\u001b[0m\u001b[1;33m)\u001b[0m\u001b[1;33m\u001b[0m\u001b[1;33m\u001b[0m\u001b[0m\n\u001b[0;32m    157\u001b[0m \u001b[1;33m\u001b[0m\u001b[0m\n\u001b[1;32m--> 158\u001b[1;33m         \u001b[0mloss\u001b[0m \u001b[1;33m=\u001b[0m \u001b[0mloss_func_cvxproblem_multilayer\u001b[0m\u001b[1;33m(\u001b[0m\u001b[0myhat\u001b[0m\u001b[1;33m,\u001b[0m \u001b[0m_y\u001b[0m\u001b[1;33m,\u001b[0m \u001b[0mmodel\u001b[0m\u001b[1;33m,\u001b[0m \u001b[0m_x\u001b[0m\u001b[1;33m,\u001b[0m \u001b[0mbeta\u001b[0m\u001b[1;33m,\u001b[0m \u001b[0mrho\u001b[0m\u001b[1;33m)\u001b[0m\u001b[1;33m\u001b[0m\u001b[1;33m\u001b[0m\u001b[0m\n\u001b[0m\u001b[0;32m    159\u001b[0m         \u001b[0mtest_loss\u001b[0m \u001b[1;33m+=\u001b[0m \u001b[0mloss\u001b[0m\u001b[1;33m.\u001b[0m\u001b[0mitem\u001b[0m\u001b[1;33m(\u001b[0m\u001b[1;33m)\u001b[0m\u001b[1;33m\u001b[0m\u001b[1;33m\u001b[0m\u001b[0m\n\u001b[0;32m    160\u001b[0m         \u001b[0mtest_correct\u001b[0m \u001b[1;33m+=\u001b[0m \u001b[0mtorch\u001b[0m\u001b[1;33m.\u001b[0m\u001b[0meq\u001b[0m\u001b[1;33m(\u001b[0m\u001b[0mtorch\u001b[0m\u001b[1;33m.\u001b[0m\u001b[0msign\u001b[0m\u001b[1;33m(\u001b[0m\u001b[0myhat\u001b[0m\u001b[1;33m)\u001b[0m\u001b[1;33m,\u001b[0m \u001b[0m_y\u001b[0m\u001b[1;33m)\u001b[0m\u001b[1;33m.\u001b[0m\u001b[0mfloat\u001b[0m\u001b[1;33m(\u001b[0m\u001b[1;33m)\u001b[0m\u001b[1;33m.\u001b[0m\u001b[0msum\u001b[0m\u001b[1;33m(\u001b[0m\u001b[1;33m)\u001b[0m\u001b[1;33m\u001b[0m\u001b[1;33m\u001b[0m\u001b[0m\n",
      "\u001b[1;32m<ipython-input-30-3cf9bea10dae>\u001b[0m in \u001b[0;36mloss_func_cvxproblem_multilayer\u001b[1;34m(yhat, y, model, _x, beta, rho, multiclass)\u001b[0m\n\u001b[0;32m    127\u001b[0m         \u001b[0mloss\u001b[0m \u001b[1;33m=\u001b[0m \u001b[1;36m0.5\u001b[0m \u001b[1;33m*\u001b[0m \u001b[0mtorch\u001b[0m\u001b[1;33m.\u001b[0m\u001b[0mnorm\u001b[0m\u001b[1;33m(\u001b[0m\u001b[0myhat\u001b[0m \u001b[1;33m-\u001b[0m \u001b[0my\u001b[0m\u001b[1;33m)\u001b[0m\u001b[1;33m**\u001b[0m\u001b[1;36m2\u001b[0m\u001b[1;33m\u001b[0m\u001b[1;33m\u001b[0m\u001b[0m\n\u001b[0;32m    128\u001b[0m         \u001b[1;31m# term 2\u001b[0m\u001b[1;33m\u001b[0m\u001b[1;33m\u001b[0m\u001b[1;33m\u001b[0m\u001b[0m\n\u001b[1;32m--> 129\u001b[1;33m         \u001b[0mloss\u001b[0m \u001b[1;33m=\u001b[0m \u001b[0mloss\u001b[0m \u001b[1;33m+\u001b[0m \u001b[0mbeta\u001b[0m \u001b[1;33m*\u001b[0m \u001b[0mtorch\u001b[0m\u001b[1;33m.\u001b[0m\u001b[0msum\u001b[0m\u001b[1;33m(\u001b[0m\u001b[0mtorch\u001b[0m\u001b[1;33m.\u001b[0m\u001b[0mnorm\u001b[0m\u001b[1;33m(\u001b[0m\u001b[0mmodel\u001b[0m\u001b[1;33m.\u001b[0m\u001b[0mv\u001b[0m\u001b[1;33m,\u001b[0m \u001b[0mdim\u001b[0m\u001b[1;33m=\u001b[0m\u001b[1;36m1\u001b[0m\u001b[1;33m)\u001b[0m\u001b[1;33m)\u001b[0m\u001b[1;33m\u001b[0m\u001b[1;33m\u001b[0m\u001b[0m\n\u001b[0m\u001b[0;32m    130\u001b[0m         \u001b[0mloss\u001b[0m \u001b[1;33m=\u001b[0m \u001b[0mloss\u001b[0m \u001b[1;33m+\u001b[0m \u001b[0mbeta\u001b[0m \u001b[1;33m*\u001b[0m \u001b[0mtorch\u001b[0m\u001b[1;33m.\u001b[0m\u001b[0msum\u001b[0m\u001b[1;33m(\u001b[0m\u001b[0mtorch\u001b[0m\u001b[1;33m.\u001b[0m\u001b[0mnorm\u001b[0m\u001b[1;33m(\u001b[0m\u001b[0mmodel\u001b[0m\u001b[1;33m.\u001b[0m\u001b[0mw\u001b[0m\u001b[1;33m,\u001b[0m \u001b[0mdim\u001b[0m\u001b[1;33m=\u001b[0m\u001b[1;36m1\u001b[0m\u001b[1;33m)\u001b[0m\u001b[1;33m)\u001b[0m\u001b[1;33m\u001b[0m\u001b[1;33m\u001b[0m\u001b[0m\n\u001b[0;32m    131\u001b[0m \u001b[1;33m\u001b[0m\u001b[0m\n",
      "\u001b[1;32m~\\.conda\\envs\\convexlayerwiselearning\\lib\\site-packages\\torch\\nn\\modules\\module.py\u001b[0m in \u001b[0;36m__getattr__\u001b[1;34m(self, name)\u001b[0m\n\u001b[0;32m    945\u001b[0m             \u001b[1;32mif\u001b[0m \u001b[0mname\u001b[0m \u001b[1;32min\u001b[0m \u001b[0mmodules\u001b[0m\u001b[1;33m:\u001b[0m\u001b[1;33m\u001b[0m\u001b[1;33m\u001b[0m\u001b[0m\n\u001b[0;32m    946\u001b[0m                 \u001b[1;32mreturn\u001b[0m \u001b[0mmodules\u001b[0m\u001b[1;33m[\u001b[0m\u001b[0mname\u001b[0m\u001b[1;33m]\u001b[0m\u001b[1;33m\u001b[0m\u001b[1;33m\u001b[0m\u001b[0m\n\u001b[1;32m--> 947\u001b[1;33m         raise AttributeError(\"'{}' object has no attribute '{}'\".format(\n\u001b[0m\u001b[0;32m    948\u001b[0m             type(self).__name__, name))\n\u001b[0;32m    949\u001b[0m \u001b[1;33m\u001b[0m\u001b[0m\n",
      "\u001b[1;31mAttributeError\u001b[0m: 'custom_cvx_layer_multilayer' object has no attribute 'v'"
     ]
    }
   ],
   "source": [
    "# SGD solver for the nonconvex problem\n",
    "# generate random sign patterns\n",
    "P, verbose = 500, True # P is number of sign patterns to generate *and* number of neurons\n",
    "num_epochs, batch_size = 10, 200\n",
    "beta = 1e-3\n",
    "rho = 1e-5\n",
    "learning_rates = [1e-7, 1e-7] # one per layer\n",
    "multiclass = True\n",
    "\n",
    "num_neurons_list = [P, P]\n",
    "u_vector_list = generate_u_vectors_manual(A.shape[1], P, verbose)\n",
    "u_vector_list_2 = generate_u_vectors_manual(P, P, verbose)\n",
    "u_vector_array = [u_vector_list, u_vector_list_2]\n",
    "\n",
    "results_cvx = sgd_solver_cvxproblem_multilayer(A, y, A_test, y_test, num_epochs, num_neurons_list, beta, \n",
    "                       learning_rates, batch_size, rho, u_vector_array, multiclass, verbose=False)"
   ]
  },
  {
   "cell_type": "code",
   "execution_count": 16,
   "metadata": {
    "id": "kMkGyl70imPM"
   },
   "outputs": [
    {
     "data": {
      "image/png": "[encoded data removed]",
      "text/plain": [
       "<Figure size 432x288 with 1 Axes>"
      ]
     },
     "metadata": {
      "needs_background": "light"
     },
     "output_type": "display_data"
    }
   ],
   "source": [
    "train_accs = results_cvx[0]\n",
    "for i in range(train_accs.shape[0]):\n",
    "    plt.plot(train_accs[i])\n",
    "plt.show()"
   ]
  },
  {
   "cell_type": "code",
   "execution_count": 17,
   "metadata": {},
   "outputs": [
    {
     "data": {
      "image/png": "[encoded data removed]",
      "text/plain": [
       "<Figure size 432x288 with 1 Axes>"
      ]
     },
     "metadata": {
      "needs_background": "light"
     },
     "output_type": "display_data"
    }
   ],
   "source": [
    "plt.clf()\n",
    "train_losses = results_cvx[4]\n",
    "for i in range(train_losses.shape[0]):\n",
    "    plt.plot(train_losses[i])\n",
    "plt.show()"
   ]
  },
  {
   "cell_type": "code",
   "execution_count": 18,
   "metadata": {},
   "outputs": [
    {
     "data": {
      "image/png": "[encoded data removed]",
      "text/plain": [
       "<Figure size 432x288 with 1 Axes>"
      ]
     },
     "metadata": {
      "needs_background": "light"
     },
     "output_type": "display_data"
    }
   ],
   "source": [
    "plt.clf()\n",
    "test_accs = results_cvx[1]\n",
    "for i in range(test_accs.shape[0]):\n",
    "    plt.plot(test_accs[i])\n",
    "plt.show()"
   ]
  },
  {
   "cell_type": "code",
   "execution_count": 19,
   "metadata": {},
   "outputs": [
    {
     "data": {
      "image/png": "[encoded data removed]",
      "text/plain": [
       "<Figure size 432x288 with 1 Axes>"
      ]
     },
     "metadata": {
      "needs_background": "light"
     },
     "output_type": "display_data"
    }
   ],
   "source": [
    "plt.clf()\n",
    "test_losses = results_cvx[5]\n",
    "for i in range(test_losses.shape[0]):\n",
    "    plt.plot(test_losses[i])\n",
    "plt.show()"
   ]
  },
  {
   "cell_type": "code",
   "execution_count": null,
   "metadata": {},
   "outputs": [],
   "source": []
  }
 ],
 "metadata": {
  "colab": {
   "collapsed_sections": [],
   "name": "convexNN_py1.ipynb",
   "provenance": []
  },
  "kernelspec": {
   "display_name": "Python 3",
   "language": "python",
   "name": "python3"
  },
  "language_info": {
   "codemirror_mode": {
    "name": "ipython",
    "version": 3
   },
   "file_extension": ".py",
   "mimetype": "text/x-python",
   "name": "python",
   "nbconvert_exporter": "python",
   "pygments_lexer": "ipython3",
   "version": "3.8.8"
  }
 },
 "nbformat": 4,
 "nbformat_minor": 1
}
